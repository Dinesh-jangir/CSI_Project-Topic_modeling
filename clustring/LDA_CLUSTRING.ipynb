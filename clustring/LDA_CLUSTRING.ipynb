{
 "cells": [
  {
   "cell_type": "markdown",
   "id": "6f7da82b",
   "metadata": {},
   "source": [
    "### jai shree ram "
   ]
  },
  {
   "cell_type": "code",
   "execution_count": 5,
   "id": "657ae28f",
   "metadata": {},
   "outputs": [
    {
     "name": "stdout",
     "output_type": "stream",
     "text": [
      "Dinesh\n"
     ]
    }
   ],
   "source": [
    "print('Dinesh')"
   ]
  },
  {
   "cell_type": "code",
   "execution_count": 13,
   "id": "624f932a",
   "metadata": {},
   "outputs": [],
   "source": [
    "import re \n",
    "import numpy as np \n",
    "import pandas as pd  \n",
    "from pprint import pprint \n",
    "import gensim \n",
    "import gensim.corpora as corpora \n",
    "from gensim.utils import simple_preprocess \n",
    "from gensim.models import CoherenceModel# spaCy for preprocessing\n",
    "import spacy# Plotting tools\n",
    "import pyLDAvis\n",
    "import pyLDAvis.gensim\n",
    "import matplotlib.pyplot as plt\n",
    "%matplotlib inline"
   ]
  },
  {
   "cell_type": "markdown",
   "id": "b578da35",
   "metadata": {},
   "source": [
    "### Load the dataset "
   ]
  },
  {
   "cell_type": "code",
   "execution_count": 14,
   "id": "2d369f40",
   "metadata": {},
   "outputs": [],
   "source": [
    "import gensim"
   ]
  },
  {
   "cell_type": "code",
   "execution_count": 15,
   "id": "e670ad10",
   "metadata": {},
   "outputs": [],
   "source": [
    " # NLTK Stop words\n",
    "from nltk.corpus import stopwords\n",
    "stop_words = stopwords.words('english')\n",
    "stop_words.extend(['from', 'subject', 're', 'edu', 'use'])"
   ]
  },
  {
   "cell_type": "code",
   "execution_count": 16,
   "id": "1665e5b5",
   "metadata": {},
   "outputs": [
    {
     "ename": "FileNotFoundError",
     "evalue": "[Errno 2] No such file or directory: 'preprocessed_final.csv'",
     "output_type": "error",
     "traceback": [
      "\u001b[31m---------------------------------------------------------------------------\u001b[39m",
      "\u001b[31mFileNotFoundError\u001b[39m                         Traceback (most recent call last)",
      "\u001b[36mCell\u001b[39m\u001b[36m \u001b[39m\u001b[32mIn[16]\u001b[39m\u001b[32m, line 1\u001b[39m\n\u001b[32m----> \u001b[39m\u001b[32m1\u001b[39m df  = pd.read_csv(\u001b[33m'\u001b[39m\u001b[33mpreprocessed_final.csv\u001b[39m\u001b[33m'\u001b[39m)\n",
      "\u001b[36mFile \u001b[39m\u001b[32mc:\\Users\\dinesh jangir\\Topic_modeling_project\\venv_env\\Lib\\site-packages\\pandas\\io\\parsers\\readers.py:1026\u001b[39m, in \u001b[36mread_csv\u001b[39m\u001b[34m(filepath_or_buffer, sep, delimiter, header, names, index_col, usecols, dtype, engine, converters, true_values, false_values, skipinitialspace, skiprows, skipfooter, nrows, na_values, keep_default_na, na_filter, verbose, skip_blank_lines, parse_dates, infer_datetime_format, keep_date_col, date_parser, date_format, dayfirst, cache_dates, iterator, chunksize, compression, thousands, decimal, lineterminator, quotechar, quoting, doublequote, escapechar, comment, encoding, encoding_errors, dialect, on_bad_lines, delim_whitespace, low_memory, memory_map, float_precision, storage_options, dtype_backend)\u001b[39m\n\u001b[32m   1013\u001b[39m kwds_defaults = _refine_defaults_read(\n\u001b[32m   1014\u001b[39m     dialect,\n\u001b[32m   1015\u001b[39m     delimiter,\n\u001b[32m   (...)\u001b[39m\u001b[32m   1022\u001b[39m     dtype_backend=dtype_backend,\n\u001b[32m   1023\u001b[39m )\n\u001b[32m   1024\u001b[39m kwds.update(kwds_defaults)\n\u001b[32m-> \u001b[39m\u001b[32m1026\u001b[39m \u001b[38;5;28;01mreturn\u001b[39;00m _read(filepath_or_buffer, kwds)\n",
      "\u001b[36mFile \u001b[39m\u001b[32mc:\\Users\\dinesh jangir\\Topic_modeling_project\\venv_env\\Lib\\site-packages\\pandas\\io\\parsers\\readers.py:620\u001b[39m, in \u001b[36m_read\u001b[39m\u001b[34m(filepath_or_buffer, kwds)\u001b[39m\n\u001b[32m    617\u001b[39m _validate_names(kwds.get(\u001b[33m\"\u001b[39m\u001b[33mnames\u001b[39m\u001b[33m\"\u001b[39m, \u001b[38;5;28;01mNone\u001b[39;00m))\n\u001b[32m    619\u001b[39m \u001b[38;5;66;03m# Create the parser.\u001b[39;00m\n\u001b[32m--> \u001b[39m\u001b[32m620\u001b[39m parser = TextFileReader(filepath_or_buffer, **kwds)\n\u001b[32m    622\u001b[39m \u001b[38;5;28;01mif\u001b[39;00m chunksize \u001b[38;5;129;01mor\u001b[39;00m iterator:\n\u001b[32m    623\u001b[39m     \u001b[38;5;28;01mreturn\u001b[39;00m parser\n",
      "\u001b[36mFile \u001b[39m\u001b[32mc:\\Users\\dinesh jangir\\Topic_modeling_project\\venv_env\\Lib\\site-packages\\pandas\\io\\parsers\\readers.py:1620\u001b[39m, in \u001b[36mTextFileReader.__init__\u001b[39m\u001b[34m(self, f, engine, **kwds)\u001b[39m\n\u001b[32m   1617\u001b[39m     \u001b[38;5;28mself\u001b[39m.options[\u001b[33m\"\u001b[39m\u001b[33mhas_index_names\u001b[39m\u001b[33m\"\u001b[39m] = kwds[\u001b[33m\"\u001b[39m\u001b[33mhas_index_names\u001b[39m\u001b[33m\"\u001b[39m]\n\u001b[32m   1619\u001b[39m \u001b[38;5;28mself\u001b[39m.handles: IOHandles | \u001b[38;5;28;01mNone\u001b[39;00m = \u001b[38;5;28;01mNone\u001b[39;00m\n\u001b[32m-> \u001b[39m\u001b[32m1620\u001b[39m \u001b[38;5;28mself\u001b[39m._engine = \u001b[38;5;28mself\u001b[39m._make_engine(f, \u001b[38;5;28mself\u001b[39m.engine)\n",
      "\u001b[36mFile \u001b[39m\u001b[32mc:\\Users\\dinesh jangir\\Topic_modeling_project\\venv_env\\Lib\\site-packages\\pandas\\io\\parsers\\readers.py:1880\u001b[39m, in \u001b[36mTextFileReader._make_engine\u001b[39m\u001b[34m(self, f, engine)\u001b[39m\n\u001b[32m   1878\u001b[39m     \u001b[38;5;28;01mif\u001b[39;00m \u001b[33m\"\u001b[39m\u001b[33mb\u001b[39m\u001b[33m\"\u001b[39m \u001b[38;5;129;01mnot\u001b[39;00m \u001b[38;5;129;01min\u001b[39;00m mode:\n\u001b[32m   1879\u001b[39m         mode += \u001b[33m\"\u001b[39m\u001b[33mb\u001b[39m\u001b[33m\"\u001b[39m\n\u001b[32m-> \u001b[39m\u001b[32m1880\u001b[39m \u001b[38;5;28mself\u001b[39m.handles = get_handle(\n\u001b[32m   1881\u001b[39m     f,\n\u001b[32m   1882\u001b[39m     mode,\n\u001b[32m   1883\u001b[39m     encoding=\u001b[38;5;28mself\u001b[39m.options.get(\u001b[33m\"\u001b[39m\u001b[33mencoding\u001b[39m\u001b[33m\"\u001b[39m, \u001b[38;5;28;01mNone\u001b[39;00m),\n\u001b[32m   1884\u001b[39m     compression=\u001b[38;5;28mself\u001b[39m.options.get(\u001b[33m\"\u001b[39m\u001b[33mcompression\u001b[39m\u001b[33m\"\u001b[39m, \u001b[38;5;28;01mNone\u001b[39;00m),\n\u001b[32m   1885\u001b[39m     memory_map=\u001b[38;5;28mself\u001b[39m.options.get(\u001b[33m\"\u001b[39m\u001b[33mmemory_map\u001b[39m\u001b[33m\"\u001b[39m, \u001b[38;5;28;01mFalse\u001b[39;00m),\n\u001b[32m   1886\u001b[39m     is_text=is_text,\n\u001b[32m   1887\u001b[39m     errors=\u001b[38;5;28mself\u001b[39m.options.get(\u001b[33m\"\u001b[39m\u001b[33mencoding_errors\u001b[39m\u001b[33m\"\u001b[39m, \u001b[33m\"\u001b[39m\u001b[33mstrict\u001b[39m\u001b[33m\"\u001b[39m),\n\u001b[32m   1888\u001b[39m     storage_options=\u001b[38;5;28mself\u001b[39m.options.get(\u001b[33m\"\u001b[39m\u001b[33mstorage_options\u001b[39m\u001b[33m\"\u001b[39m, \u001b[38;5;28;01mNone\u001b[39;00m),\n\u001b[32m   1889\u001b[39m )\n\u001b[32m   1890\u001b[39m \u001b[38;5;28;01massert\u001b[39;00m \u001b[38;5;28mself\u001b[39m.handles \u001b[38;5;129;01mis\u001b[39;00m \u001b[38;5;129;01mnot\u001b[39;00m \u001b[38;5;28;01mNone\u001b[39;00m\n\u001b[32m   1891\u001b[39m f = \u001b[38;5;28mself\u001b[39m.handles.handle\n",
      "\u001b[36mFile \u001b[39m\u001b[32mc:\\Users\\dinesh jangir\\Topic_modeling_project\\venv_env\\Lib\\site-packages\\pandas\\io\\common.py:873\u001b[39m, in \u001b[36mget_handle\u001b[39m\u001b[34m(path_or_buf, mode, encoding, compression, memory_map, is_text, errors, storage_options)\u001b[39m\n\u001b[32m    868\u001b[39m \u001b[38;5;28;01melif\u001b[39;00m \u001b[38;5;28misinstance\u001b[39m(handle, \u001b[38;5;28mstr\u001b[39m):\n\u001b[32m    869\u001b[39m     \u001b[38;5;66;03m# Check whether the filename is to be opened in binary mode.\u001b[39;00m\n\u001b[32m    870\u001b[39m     \u001b[38;5;66;03m# Binary mode does not support 'encoding' and 'newline'.\u001b[39;00m\n\u001b[32m    871\u001b[39m     \u001b[38;5;28;01mif\u001b[39;00m ioargs.encoding \u001b[38;5;129;01mand\u001b[39;00m \u001b[33m\"\u001b[39m\u001b[33mb\u001b[39m\u001b[33m\"\u001b[39m \u001b[38;5;129;01mnot\u001b[39;00m \u001b[38;5;129;01min\u001b[39;00m ioargs.mode:\n\u001b[32m    872\u001b[39m         \u001b[38;5;66;03m# Encoding\u001b[39;00m\n\u001b[32m--> \u001b[39m\u001b[32m873\u001b[39m         handle = \u001b[38;5;28mopen\u001b[39m(\n\u001b[32m    874\u001b[39m             handle,\n\u001b[32m    875\u001b[39m             ioargs.mode,\n\u001b[32m    876\u001b[39m             encoding=ioargs.encoding,\n\u001b[32m    877\u001b[39m             errors=errors,\n\u001b[32m    878\u001b[39m             newline=\u001b[33m\"\u001b[39m\u001b[33m\"\u001b[39m,\n\u001b[32m    879\u001b[39m         )\n\u001b[32m    880\u001b[39m     \u001b[38;5;28;01melse\u001b[39;00m:\n\u001b[32m    881\u001b[39m         \u001b[38;5;66;03m# Binary mode\u001b[39;00m\n\u001b[32m    882\u001b[39m         handle = \u001b[38;5;28mopen\u001b[39m(handle, ioargs.mode)\n",
      "\u001b[31mFileNotFoundError\u001b[39m: [Errno 2] No such file or directory: 'preprocessed_final.csv'"
     ]
    }
   ],
   "source": [
    "df  = pd.read_csv('preprocessed_final.csv')"
   ]
  },
  {
   "cell_type": "code",
   "execution_count": 16,
   "id": "76e04c8f",
   "metadata": {},
   "outputs": [
    {
     "ename": "NameError",
     "evalue": "name 'df' is not defined",
     "output_type": "error",
     "traceback": [
      "\u001b[31m---------------------------------------------------------------------------\u001b[39m",
      "\u001b[31mNameError\u001b[39m                                 Traceback (most recent call last)",
      "\u001b[36mCell\u001b[39m\u001b[36m \u001b[39m\u001b[32mIn[16]\u001b[39m\u001b[32m, line 1\u001b[39m\n\u001b[32m----> \u001b[39m\u001b[32m1\u001b[39m \u001b[38;5;28mprint\u001b[39m(\u001b[33mf\u001b[39m\u001b[33m'\u001b[39m\u001b[33mList of columns : \u001b[39m\u001b[38;5;132;01m{\u001b[39;00m\u001b[43mdf\u001b[49m.columns\u001b[38;5;132;01m}\u001b[39;00m\u001b[33m \u001b[39m\u001b[38;5;130;01m\\n\u001b[39;00m\u001b[33m'\u001b[39m)\n\u001b[32m      2\u001b[39m \u001b[38;5;28mprint\u001b[39m(\u001b[33mf\u001b[39m\u001b[33m'\u001b[39m\u001b[33mshape of dataset : \u001b[39m\u001b[38;5;132;01m{\u001b[39;00mdf.shape\u001b[38;5;132;01m}\u001b[39;00m\u001b[33m \u001b[39m\u001b[38;5;130;01m\\n\u001b[39;00m\u001b[33m'\u001b[39m)\n\u001b[32m      3\u001b[39m \u001b[38;5;28mprint\u001b[39m(\u001b[33mf\u001b[39m\u001b[33m'\u001b[39m\u001b[33mData type of dataset : \u001b[39m\u001b[38;5;132;01m{\u001b[39;00m\u001b[38;5;28mdict\u001b[39m(df.dtypes)\u001b[38;5;132;01m}\u001b[39;00m\u001b[33m \u001b[39m\u001b[38;5;130;01m\\n\u001b[39;00m\u001b[33m'\u001b[39m)\n",
      "\u001b[31mNameError\u001b[39m: name 'df' is not defined"
     ]
    }
   ],
   "source": [
    "print(f'List of columns : {df.columns} \\n')\n",
    "print(f'shape of dataset : {df.shape} \\n')\n",
    "print(f'Data type of dataset : {dict(df.dtypes)} \\n')"
   ]
  },
  {
   "cell_type": "markdown",
   "id": "2d0b9dec",
   "metadata": {},
   "source": [
    "### check  unique label in data "
   ]
  },
  {
   "cell_type": "code",
   "execution_count": null,
   "id": "e23c313f",
   "metadata": {},
   "outputs": [
    {
     "data": {
      "text/plain": [
       "array(['alt.atheism', 'comp.graphics', 'comp.os.ms-windows.misc',\n",
       "       'comp.sys.ibm.pc.hardware', 'comp.sys.mac.hardware',\n",
       "       'comp.windows.x', 'misc.forsale', 'rec.autos', 'rec.motorcycles',\n",
       "       'rec.sport.baseball', 'rec.sport.hockey', 'sci.crypt',\n",
       "       'sci.electronics', 'sci.med', 'sci.space',\n",
       "       'soc.religion.christian', 'talk.politics.guns',\n",
       "       'talk.politics.mideast', 'talk.politics.misc',\n",
       "       'talk.religion.misc'], dtype=object)"
      ]
     },
     "execution_count": 6,
     "metadata": {},
     "output_type": "execute_result"
    }
   ],
   "source": [
    "df.Label.unique()"
   ]
  },
  {
   "cell_type": "markdown",
   "id": "dee1da3c",
   "metadata": {},
   "source": [
    "### remove email and newline  characters "
   ]
  },
  {
   "cell_type": "code",
   "execution_count": null,
   "id": "4783b3c8",
   "metadata": {},
   "outputs": [
    {
     "name": "stderr",
     "output_type": "stream",
     "text": [
      "<>:5: SyntaxWarning: invalid escape sequence '\\S'\n",
      "<>:8: SyntaxWarning: invalid escape sequence '\\s'\n",
      "<>:5: SyntaxWarning: invalid escape sequence '\\S'\n",
      "<>:8: SyntaxWarning: invalid escape sequence '\\s'\n",
      "C:\\Users\\dinesh jangir\\AppData\\Local\\Temp\\ipykernel_12184\\306511511.py:5: SyntaxWarning: invalid escape sequence '\\S'\n",
      "  data  =  [re.sub('\\S*@S\\*\\s','',sent)for sent in data]\n",
      "C:\\Users\\dinesh jangir\\AppData\\Local\\Temp\\ipykernel_12184\\306511511.py:8: SyntaxWarning: invalid escape sequence '\\s'\n",
      "  data = [re.sub('\\s+',' ',sent) for sent in data]\n"
     ]
    },
    {
     "name": "stdout",
     "output_type": "stream",
     "text": [
      "['From: mathew <mathew@mantis.co.uk> Subject: Alt.Atheism FAQ: Atheist '\n",
      " 'Resources Archive-name: atheism/resources Alt-atheism-archive-name: '\n",
      " 'resources Last-modified: 11 December 1992 Version: 1.0 Atheist Resources '\n",
      " 'Addresses of Atheist Organizations USA FREEDOM FROM RELIGION FOUNDATION '\n",
      " 'Darwin fish bumper stickers and assorted other atheist paraphernalia are '\n",
      " 'available from the Freedom From Religion Foundation in the US. Write to: '\n",
      " 'FFRF, P.O. Box 750, Madison, WI 53701. Telephone: (608) 256-8900 EVOLUTION '\n",
      " 'DESIGNS Evolution Designs sell the \"Darwin fish\". Its a fish symbol, like '\n",
      " 'the ones Christians stick on their cars, but with feet and the word \"Darwin\" '\n",
      " 'written inside. The deluxe moulded 3D plastic fish is $4.95 postpaid in the '\n",
      " 'US. Write to: Evolution Designs, 7119 Laurel Canyon #4, North Hollywood, CA '\n",
      " '91605. People in the San Francisco Bay area can get Darwin Fish from Lynn '\n",
      " 'Gold -- try mailing <figmo@netcom.com>. For net people who go to Lynn '\n",
      " 'directly, the price is $4.95 per fish. AMERICAN ATHEIST PRESS AAP publish '\n",
      " 'various atheist books -- critiques of the Bible, lists of Biblical '\n",
      " 'contradictions, and so on. One such book is: \"The Bible Handbook\" by W.P. '\n",
      " 'Ball and G.W. Foote. American Atheist Press. 372 pp. ISBN 0-910309-26-4, 2nd '\n",
      " 'edition, 1986. Bible contradictions, absurdities, atrocities, '\n",
      " 'immoralities... contains Ball, Foote: \"The Bible Contradicts Itself\", AAP. '\n",
      " 'Based on the King James version of the Bible. Write to: American Atheist '\n",
      " 'Press, P.O. Box 140195, Austin, TX 78714-0195. or: 7215 Cameron Road, '\n",
      " 'Austin, TX 78752-2973. Telephone: (512) 458-1244 Fax: (512) 467-9525 '\n",
      " 'PROMETHEUS BOOKS Sell books including Haughts \"Holy Horrors\" (see below). '\n",
      " 'Write to: 700 East Amherst Street, Buffalo, New York 14215. Telephone: (716) '\n",
      " '837-2475. An alternate address (which may be newer or older) is: Prometheus '\n",
      " 'Books, 59 Glenn Drive, Buffalo, NY 14228-2197. AFRICAN-AMERICANS FOR '\n",
      " 'HUMANISM An organization promoting black secular humanism and uncovering the '\n",
      " 'history of black freethought. They publish a quarterly newsletter, AAH '\n",
      " 'EXAMINER. Write to: Norm R. Allen, Jr., African Americans for Humanism, P.O. '\n",
      " 'Box 664, Buffalo, NY 14226. United Kingdom Rationalist Press Association '\n",
      " 'National Secular Society 88 Islington High Street 702 Holloway Road London '\n",
      " 'N1 8EW London N19 3NL 071 226 7251 071 272 1266 British Humanist Association '\n",
      " 'South Place Ethical Society 14 Lambs Conduit Passage Conway Hall London WC1R '\n",
      " '4RH Red Lion Square 071 430 0908 London WC1R 4RL fax 071 430 1271 071 831 '\n",
      " '7723 The National Secular Society publish \"The Freethinker\", a monthly '\n",
      " 'magazine founded in 1881. Germany IBKA e.V. Internationaler Bund der '\n",
      " 'Konfessionslosen und Atheisten Postfach 880, D-1000 Berlin 41. Germany. IBKA '\n",
      " 'publish a journal: MIZ. (Materialien und Informationen zur Zeit. Politisches '\n",
      " 'Journal der Konfessionslosesn und Atheisten. Hrsg. IBKA e.V.) MIZ-Vertrieb, '\n",
      " 'Postfach 880, D-1000 Berlin 41. Germany. For atheist books, write to: IBDK, '\n",
      " 'Internationaler B\"ucherdienst der Konfessionslosen Postfach 3005, D-3000 '\n",
      " 'Hannover 1. Germany. Telephone: 0511/211216 Books -- Fiction THOMAS M. DISCH '\n",
      " '\"The Santa Claus Compromise\" Short story. The ultimate proof that Santa '\n",
      " 'exists. All characters and events are fictitious. Any similarity to living '\n",
      " 'or dead gods -- uh, well... WALTER M. MILLER, JR \"A Canticle for Leibowitz\" '\n",
      " 'One gem in this post atomic doomsday novel is the monks who spent their '\n",
      " 'lives copying blueprints from \"Saint Leibowitz\", filling the sheets of paper '\n",
      " 'with ink and leaving white lines and letters. EDGAR PANGBORN \"Davy\" Post '\n",
      " 'atomic doomsday novel set in clerical states. The church, for example, '\n",
      " 'forbids that anyone \"produce, describe or use any substance containing... '\n",
      " 'atoms\". PHILIP K. DICK Philip K. Dick Dick wrote many philosophical and '\n",
      " 'thought-provoking short stories and novels. His stories are bizarre at '\n",
      " 'times, but very approachable. He wrote mainly SF, but he wrote about people, '\n",
      " 'truth and religion rather than technology. Although he often believed that '\n",
      " 'he had met some sort of God, he remained sceptical. Amongst his novels, the '\n",
      " 'following are of some relevance: \"Galactic Pot-Healer\" A fallible alien '\n",
      " 'deity summons a group of Earth craftsmen and women to a remote planet to '\n",
      " 'raise a giant cathedral from beneath the oceans. When the deity begins to '\n",
      " 'demand faith from the earthers, pot-healer Joe Fernwright is unable to '\n",
      " 'comply. A polished, ironic and amusing novel. \"A Maze of Death\" Noteworthy '\n",
      " 'for its description of a technology-based religion. \"VALIS\" The '\n",
      " 'schizophrenic hero searches for the hidden mysteries of Gnostic Christianity '\n",
      " 'after reality is fired into his brain by a pink laser beam of unknown but '\n",
      " 'possibly divine origin. He is accompanied by his dogmatic and dismissively '\n",
      " 'atheist friend and assorted other odd characters. \"The Divine Invasion\" God '\n",
      " 'invades Earth by making a young woman pregnant as she returns from another '\n",
      " 'star system. Unfortunately she is terminally ill, and must be assisted by a '\n",
      " 'dead man whose brain is wired to 24-hour easy listening music. MARGARET '\n",
      " 'ATWOOD \"The Handmaids Tale\" A story based on the premise that the US '\n",
      " 'Congress is mysteriously assassinated, and fundamentalists quickly take '\n",
      " 'charge of the nation to set it \"right\" again. The book is the diary of a '\n",
      " 'womans life as she tries to live under the new Christian theocracy. Womens '\n",
      " 'right to own property is revoked, and their bank accounts are closed; sinful '\n",
      " 'luxuries are outlawed, and the radio is only used for readings from the '\n",
      " 'Bible. Crimes are punished retroactively: doctors who performed legal '\n",
      " 'abortions in the \"old world\" are hunted down and hanged. Atwoods writing '\n",
      " 'style is difficult to get used to at first, but the tale grows more and more '\n",
      " 'chilling as it goes on. VARIOUS AUTHORS \"The Bible\" This somewhat dull and '\n",
      " 'rambling work has often been criticized. However, it is probably worth '\n",
      " 'reading, if only so that youll know what all the fuss is about. It exists in '\n",
      " 'many different versions, so make sure you get the one true version. Books -- '\n",
      " 'Non-fiction PETER DE ROSA \"Vicars of Christ\", Bantam Press, 1988 Although de '\n",
      " 'Rosa seems to be Christian or even Catholic this is a very enlighting '\n",
      " 'history of papal immoralities, adulteries, fallacies etc. (German '\n",
      " 'translation: \"Gottes erste Diener. Die dunkle Seite des Papsttums\", '\n",
      " 'Droemer-Knaur, 1989) MICHAEL MARTIN \"Atheism: A Philosophical '\n",
      " 'Justification\", Temple University Press, Philadelphia, USA. A detailed and '\n",
      " 'scholarly justification of atheism. Contains an outstanding appendix '\n",
      " 'defining terminology and usage in this (necessarily) tendentious area. '\n",
      " 'Argues both for \"negative atheism\" (i.e. the \"non-belief in the existence of '\n",
      " 'god(s)\") and also for \"positive atheism\" (\"the belief in the non-existence '\n",
      " 'of god(s)\"). Includes great refutations of the most challenging arguments '\n",
      " 'for god; particular attention is paid to refuting contempory theists such as '\n",
      " 'Platinga and Swinburne. 541 pages. ISBN 0-87722-642-3 (hardcover; paperback '\n",
      " 'also available) \"The Case Against Christianity\", Temple University Press A '\n",
      " 'comprehensive critique of Christianity, in which he considers the best '\n",
      " 'contemporary defences of Christianity and (ultimately) demonstrates that '\n",
      " 'they are unsupportable and/or incoherent. 273 pages. ISBN 0-87722-767-5 '\n",
      " 'JAMES TURNER \"Without God, Without Creed\", The Johns Hopkins University '\n",
      " 'Press, Baltimore, MD, USA Subtitled \"The Origins of Unbelief in America\". '\n",
      " 'Examines the way in which unbelief (whether agnostic or atheistic) became a '\n",
      " 'mainstream alternative world-view. Focusses on the period 1770-1900, and '\n",
      " 'while considering France and Britain the emphasis is on American, and '\n",
      " 'particularly New England developments. \"Neither a religious history of '\n",
      " 'secularization or atheism, Without God, Without Creed is, rather, the '\n",
      " 'intellectual history of the fate of a single idea, the belief that God '\n",
      " 'exists.\" 316 pages. ISBN (hardcover) 0-8018-2494-X (paper) 0-8018-3407-4 '\n",
      " 'GEORGE SELDES (Editor) \"The great thoughts\", Ballantine Books, New York, USA '\n",
      " 'A \"dictionary of quotations\" of a different kind, concentrating on '\n",
      " 'statements and writings which, explicitly or implicitly, present the persons '\n",
      " 'philosophy and world-view. Includes obscure (and often suppressed) opinions '\n",
      " 'from many people. For some popular observations, traces the way in which '\n",
      " 'various people expressed and twisted the idea over the centuries. Quite a '\n",
      " 'number of the quotations are derived from Cardiffs \"What Great Men Think of '\n",
      " 'Religion\" and Noyes \"Views of Religion\". 490 pages. ISBN (paper) '\n",
      " '0-345-29887-X. RICHARD SWINBURNE \"The Existence of God (Revised Edition)\", '\n",
      " 'Clarendon Paperbacks, Oxford This book is the second volume in a trilogy '\n",
      " 'that began with \"The Coherence of Theism\" (1977) and was concluded with '\n",
      " '\"Faith and Reason\" (1981). In this work, Swinburne attempts to construct a '\n",
      " 'series of inductive arguments for the existence of God. His arguments, which '\n",
      " 'are somewhat tendentious and rely upon the imputation of late 20th century '\n",
      " 'western Christian values and aesthetics to a God which is supposedly as '\n",
      " 'simple as can be conceived, were decisively rejected in Mackies \"The Miracle '\n",
      " 'of Theism\". In the revised edition of \"The Existence of God\", Swinburne '\n",
      " 'includes an Appendix in which he makes a somewhat incoherent attempt to '\n",
      " 'rebut Mackie. J. L. MACKIE \"The Miracle of Theism\", Oxford This (posthumous) '\n",
      " 'volume contains a comprehensive review of the principal arguments for and '\n",
      " 'against the existence of God. It ranges from the classical philosophical '\n",
      " 'positions of Descartes, Anselm, Berkeley, Hume et al, through the moral '\n",
      " 'arguments of Newman, Kant and Sidgwick, to the recent restatements of the '\n",
      " 'classical theses by Plantinga and Swinburne. It also addresses those '\n",
      " 'positions which push the concept of God beyond the realm of the rational, '\n",
      " 'such as those of Kierkegaard, Kung and Philips, as well as \"replacements for '\n",
      " 'God\" such as Lelies axiarchism. The book is a delight to read - less '\n",
      " 'formalistic and better written than Martins works, and refreshingly direct '\n",
      " 'when compared with the hand-waving of Swinburne. JAMES A. HAUGHT \"Holy '\n",
      " 'Horrors: An Illustrated History of Religious Murder and Madness\", Prometheus '\n",
      " 'Books Looks at religious persecution from ancient times to the present day '\n",
      " '-- and not only by Christians. Library of Congress Catalog Card Number '\n",
      " '89-64079. 1990. NORM R. ALLEN, JR. \"African American Humanism: an Anthology\" '\n",
      " 'See the listing for African Americans for Humanism above. GORDON STEIN \"An '\n",
      " 'Anthology of Atheism and Rationalism\", Prometheus Books An anthology '\n",
      " 'covering a wide range of subjects, including The Devil, Evil and Morality '\n",
      " 'and The History of Freethought. Comprehensive bibliography. EDMUND D. COHEN '\n",
      " '\"The Mind of The Bible-Believer\", Prometheus Books A study of why people '\n",
      " 'become Christian fundamentalists, and what effect it has on them. Net '\n",
      " 'Resources Theres a small mail-based archive server at mantis.co.uk which '\n",
      " 'carries archives of old alt.atheism.moderated articles and assorted other '\n",
      " 'files. For more information, send mail to archive-server@mantis.co.uk saying '\n",
      " 'help send atheism/index and it will mail back a reply. mathew ÿ ']\n"
     ]
    }
   ],
   "source": [
    "## Convert to list \n",
    "data = df.Text.values.tolist()\n",
    "\n",
    "## Remove Emails \n",
    "data  =  [re.sub('\\S*@S\\*\\s','',sent)for sent in data]\n",
    "\n",
    "## remove new line character \n",
    "data = [re.sub('\\s+',' ',sent) for sent in data]\n",
    "\n",
    "## Removes distracting single quotes \n",
    "\n",
    "data = [re.sub(\"\\'\",\"\",sent) for sent in data]\n",
    "\n",
    "pprint(data[:1])"
   ]
  },
  {
   "cell_type": "markdown",
   "id": "c86c63d6",
   "metadata": {},
   "source": []
  },
  {
   "cell_type": "code",
   "execution_count": null,
   "id": "97ef951a",
   "metadata": {},
   "outputs": [
    {
     "name": "stdout",
     "output_type": "stream",
     "text": [
      "['From: mathew <mathew@mantis.co.uk> Subject: Alt.Atheism FAQ: Atheist Resources Archive-name: atheism/resources Alt-atheism-archive-name: resources Last-modified: 11 December 1992 Version: 1.0 Atheist Resources Addresses of Atheist Organizations USA FREEDOM FROM RELIGION FOUNDATION Darwin fish bumper stickers and assorted other atheist paraphernalia are available from the Freedom From Religion Foundation in the US. Write to: FFRF, P.O. Box 750, Madison, WI 53701. Telephone: (608) 256-8900 EVOLUTION DESIGNS Evolution Designs sell the \"Darwin fish\". Its a fish symbol, like the ones Christians stick on their cars, but with feet and the word \"Darwin\" written inside. The deluxe moulded 3D plastic fish is $4.95 postpaid in the US. Write to: Evolution Designs, 7119 Laurel Canyon #4, North Hollywood, CA 91605. People in the San Francisco Bay area can get Darwin Fish from Lynn Gold -- try mailing <figmo@netcom.com>. For net people who go to Lynn directly, the price is $4.95 per fish. AMERICAN ATHEIST PRESS AAP publish various atheist books -- critiques of the Bible, lists of Biblical contradictions, and so on. One such book is: \"The Bible Handbook\" by W.P. Ball and G.W. Foote. American Atheist Press. 372 pp. ISBN 0-910309-26-4, 2nd edition, 1986. Bible contradictions, absurdities, atrocities, immoralities... contains Ball, Foote: \"The Bible Contradicts Itself\", AAP. Based on the King James version of the Bible. Write to: American Atheist Press, P.O. Box 140195, Austin, TX 78714-0195. or: 7215 Cameron Road, Austin, TX 78752-2973. Telephone: (512) 458-1244 Fax: (512) 467-9525 PROMETHEUS BOOKS Sell books including Haughts \"Holy Horrors\" (see below). Write to: 700 East Amherst Street, Buffalo, New York 14215. Telephone: (716) 837-2475. An alternate address (which may be newer or older) is: Prometheus Books, 59 Glenn Drive, Buffalo, NY 14228-2197. AFRICAN-AMERICANS FOR HUMANISM An organization promoting black secular humanism and uncovering the history of black freethought. They publish a quarterly newsletter, AAH EXAMINER. Write to: Norm R. Allen, Jr., African Americans for Humanism, P.O. Box 664, Buffalo, NY 14226. United Kingdom Rationalist Press Association National Secular Society 88 Islington High Street 702 Holloway Road London N1 8EW London N19 3NL 071 226 7251 071 272 1266 British Humanist Association South Place Ethical Society 14 Lambs Conduit Passage Conway Hall London WC1R 4RH Red Lion Square 071 430 0908 London WC1R 4RL fax 071 430 1271 071 831 7723 The National Secular Society publish \"The Freethinker\", a monthly magazine founded in 1881. Germany IBKA e.V. Internationaler Bund der Konfessionslosen und Atheisten Postfach 880, D-1000 Berlin 41. Germany. IBKA publish a journal: MIZ. (Materialien und Informationen zur Zeit. Politisches Journal der Konfessionslosesn und Atheisten. Hrsg. IBKA e.V.) MIZ-Vertrieb, Postfach 880, D-1000 Berlin 41. Germany. For atheist books, write to: IBDK, Internationaler B\"ucherdienst der Konfessionslosen Postfach 3005, D-3000 Hannover 1. Germany. Telephone: 0511/211216 Books -- Fiction THOMAS M. DISCH \"The Santa Claus Compromise\" Short story. The ultimate proof that Santa exists. All characters and events are fictitious. Any similarity to living or dead gods -- uh, well... WALTER M. MILLER, JR \"A Canticle for Leibowitz\" One gem in this post atomic doomsday novel is the monks who spent their lives copying blueprints from \"Saint Leibowitz\", filling the sheets of paper with ink and leaving white lines and letters. EDGAR PANGBORN \"Davy\" Post atomic doomsday novel set in clerical states. The church, for example, forbids that anyone \"produce, describe or use any substance containing... atoms\". PHILIP K. DICK Philip K. Dick Dick wrote many philosophical and thought-provoking short stories and novels. His stories are bizarre at times, but very approachable. He wrote mainly SF, but he wrote about people, truth and religion rather than technology. Although he often believed that he had met some sort of God, he remained sceptical. Amongst his novels, the following are of some relevance: \"Galactic Pot-Healer\" A fallible alien deity summons a group of Earth craftsmen and women to a remote planet to raise a giant cathedral from beneath the oceans. When the deity begins to demand faith from the earthers, pot-healer Joe Fernwright is unable to comply. A polished, ironic and amusing novel. \"A Maze of Death\" Noteworthy for its description of a technology-based religion. \"VALIS\" The schizophrenic hero searches for the hidden mysteries of Gnostic Christianity after reality is fired into his brain by a pink laser beam of unknown but possibly divine origin. He is accompanied by his dogmatic and dismissively atheist friend and assorted other odd characters. \"The Divine Invasion\" God invades Earth by making a young woman pregnant as she returns from another star system. Unfortunately she is terminally ill, and must be assisted by a dead man whose brain is wired to 24-hour easy listening music. MARGARET ATWOOD \"The Handmaids Tale\" A story based on the premise that the US Congress is mysteriously assassinated, and fundamentalists quickly take charge of the nation to set it \"right\" again. The book is the diary of a womans life as she tries to live under the new Christian theocracy. Womens right to own property is revoked, and their bank accounts are closed; sinful luxuries are outlawed, and the radio is only used for readings from the Bible. Crimes are punished retroactively: doctors who performed legal abortions in the \"old world\" are hunted down and hanged. Atwoods writing style is difficult to get used to at first, but the tale grows more and more chilling as it goes on. VARIOUS AUTHORS \"The Bible\" This somewhat dull and rambling work has often been criticized. However, it is probably worth reading, if only so that youll know what all the fuss is about. It exists in many different versions, so make sure you get the one true version. Books -- Non-fiction PETER DE ROSA \"Vicars of Christ\", Bantam Press, 1988 Although de Rosa seems to be Christian or even Catholic this is a very enlighting history of papal immoralities, adulteries, fallacies etc. (German translation: \"Gottes erste Diener. Die dunkle Seite des Papsttums\", Droemer-Knaur, 1989) MICHAEL MARTIN \"Atheism: A Philosophical Justification\", Temple University Press, Philadelphia, USA. A detailed and scholarly justification of atheism. Contains an outstanding appendix defining terminology and usage in this (necessarily) tendentious area. Argues both for \"negative atheism\" (i.e. the \"non-belief in the existence of god(s)\") and also for \"positive atheism\" (\"the belief in the non-existence of god(s)\"). Includes great refutations of the most challenging arguments for god; particular attention is paid to refuting contempory theists such as Platinga and Swinburne. 541 pages. ISBN 0-87722-642-3 (hardcover; paperback also available) \"The Case Against Christianity\", Temple University Press A comprehensive critique of Christianity, in which he considers the best contemporary defences of Christianity and (ultimately) demonstrates that they are unsupportable and/or incoherent. 273 pages. ISBN 0-87722-767-5 JAMES TURNER \"Without God, Without Creed\", The Johns Hopkins University Press, Baltimore, MD, USA Subtitled \"The Origins of Unbelief in America\". Examines the way in which unbelief (whether agnostic or atheistic) became a mainstream alternative world-view. Focusses on the period 1770-1900, and while considering France and Britain the emphasis is on American, and particularly New England developments. \"Neither a religious history of secularization or atheism, Without God, Without Creed is, rather, the intellectual history of the fate of a single idea, the belief that God exists.\" 316 pages. ISBN (hardcover) 0-8018-2494-X (paper) 0-8018-3407-4 GEORGE SELDES (Editor) \"The great thoughts\", Ballantine Books, New York, USA A \"dictionary of quotations\" of a different kind, concentrating on statements and writings which, explicitly or implicitly, present the persons philosophy and world-view. Includes obscure (and often suppressed) opinions from many people. For some popular observations, traces the way in which various people expressed and twisted the idea over the centuries. Quite a number of the quotations are derived from Cardiffs \"What Great Men Think of Religion\" and Noyes \"Views of Religion\". 490 pages. ISBN (paper) 0-345-29887-X. RICHARD SWINBURNE \"The Existence of God (Revised Edition)\", Clarendon Paperbacks, Oxford This book is the second volume in a trilogy that began with \"The Coherence of Theism\" (1977) and was concluded with \"Faith and Reason\" (1981). In this work, Swinburne attempts to construct a series of inductive arguments for the existence of God. His arguments, which are somewhat tendentious and rely upon the imputation of late 20th century western Christian values and aesthetics to a God which is supposedly as simple as can be conceived, were decisively rejected in Mackies \"The Miracle of Theism\". In the revised edition of \"The Existence of God\", Swinburne includes an Appendix in which he makes a somewhat incoherent attempt to rebut Mackie. J. L. MACKIE \"The Miracle of Theism\", Oxford This (posthumous) volume contains a comprehensive review of the principal arguments for and against the existence of God. It ranges from the classical philosophical positions of Descartes, Anselm, Berkeley, Hume et al, through the moral arguments of Newman, Kant and Sidgwick, to the recent restatements of the classical theses by Plantinga and Swinburne. It also addresses those positions which push the concept of God beyond the realm of the rational, such as those of Kierkegaard, Kung and Philips, as well as \"replacements for God\" such as Lelies axiarchism. The book is a delight to read - less formalistic and better written than Martins works, and refreshingly direct when compared with the hand-waving of Swinburne. JAMES A. HAUGHT \"Holy Horrors: An Illustrated History of Religious Murder and Madness\", Prometheus Books Looks at religious persecution from ancient times to the present day -- and not only by Christians. Library of Congress Catalog Card Number 89-64079. 1990. NORM R. ALLEN, JR. \"African American Humanism: an Anthology\" See the listing for African Americans for Humanism above. GORDON STEIN \"An Anthology of Atheism and Rationalism\", Prometheus Books An anthology covering a wide range of subjects, including The Devil, Evil and Morality and The History of Freethought. Comprehensive bibliography. EDMUND D. COHEN \"The Mind of The Bible-Believer\", Prometheus Books A study of why people become Christian fundamentalists, and what effect it has on them. Net Resources Theres a small mail-based archive server at mantis.co.uk which carries archives of old alt.atheism.moderated articles and assorted other files. For more information, send mail to archive-server@mantis.co.uk saying help send atheism/index and it will mail back a reply. mathew ÿ ']\n"
     ]
    }
   ],
   "source": [
    "def sent_to_word(sentances):\n",
    "    for sentance in sentances:\n",
    "        yield(gensim.utils.simple_preprocess(str(sentance),deacc=True))\n",
    "        \n",
    "        \n",
    "data_words = list(sent_to_word(data))\n",
    "print(data[:1])"
   ]
  },
  {
   "cell_type": "code",
   "execution_count": null,
   "id": "bd7e368a",
   "metadata": {},
   "outputs": [
    {
     "name": "stdout",
     "output_type": "stream",
     "text": [
      "['from', 'mathew_mathew_mantis_co', 'uk', 'subject', 'alt_atheism_faq', 'atheist', 'resources', 'archive_name', 'atheism', 'resources', 'alt_atheism', 'archive_name', 'resources', 'last_modified', 'december', 'version', 'atheist', 'resources', 'addresses', 'of', 'atheist', 'organizations', 'usa', 'freedom', 'from', 'religion', 'foundation', 'darwin_fish', 'bumper_stickers', 'and', 'assorted', 'other', 'atheist', 'paraphernalia', 'are', 'available', 'from', 'the', 'freedom', 'from', 'religion', 'foundation', 'in', 'the', 'us', 'write', 'to', 'ffrf', 'box', 'madison_wi', 'telephone', 'evolution_designs', 'evolution_designs', 'sell', 'the', 'darwin_fish', 'its', 'fish', 'symbol', 'like', 'the', 'ones', 'christians', 'stick', 'on', 'their', 'cars', 'but', 'with', 'feet', 'and', 'the', 'word', 'darwin', 'written', 'inside', 'the', 'deluxe', 'moulded', 'plastic', 'fish', 'is', 'postpaid', 'in', 'the', 'us', 'write', 'to', 'evolution_designs', 'laurel', 'canyon', 'north', 'hollywood', 'ca', 'people', 'in', 'the', 'san_francisco_bay_area', 'can', 'get', 'darwin_fish', 'from', 'lynn', 'gold', 'try', 'mailing', 'figmo', 'netcom', 'com', 'for', 'net', 'people', 'who', 'go', 'to', 'lynn', 'directly', 'the', 'price', 'is', 'per', 'fish', 'american', 'atheist', 'press', 'aap', 'publish', 'various', 'atheist', 'books', 'critiques', 'of', 'the', 'bible', 'lists', 'of', 'biblical_contradictions', 'and', 'so', 'on', 'one', 'such', 'book', 'is', 'the', 'bible', 'handbook', 'by', 'ball', 'and', 'foote', 'american', 'atheist', 'press', 'pp', 'isbn', 'nd_edition', 'bible_contradictions', 'absurdities', 'atrocities', 'immoralities', 'contains', 'ball', 'foote', 'the', 'bible', 'contradicts', 'itself', 'aap', 'based', 'on', 'the', 'king', 'james', 'version', 'of', 'the', 'bible', 'write', 'to', 'american', 'atheist', 'press', 'box', 'austin_tx', 'or', 'cameron', 'road', 'austin_tx', 'telephone', 'fax', 'prometheus_books', 'sell', 'books', 'including', 'haughts', 'holy', 'horrors', 'see', 'below', 'write', 'to', 'east', 'amherst', 'street', 'buffalo', 'new_york', 'telephone', 'an', 'alternate', 'address', 'which', 'may', 'be', 'newer', 'or', 'older', 'is', 'prometheus_books', 'glenn', 'drive', 'buffalo_ny', 'african_americans', 'for', 'humanism', 'an', 'organization', 'promoting', 'black', 'secular_humanism', 'and', 'uncovering', 'the', 'history', 'of', 'black', 'freethought', 'they', 'publish', 'quarterly', 'newsletter', 'aah', 'examiner', 'write', 'to', 'norm', 'allen', 'jr', 'african_americans', 'for', 'humanism', 'box', 'buffalo_ny', 'united_kingdom', 'rationalist', 'press', 'association', 'national', 'secular', 'society', 'islington', 'high', 'street', 'holloway', 'road', 'london', 'ew', 'london', 'nl', 'british', 'humanist', 'association', 'south', 'place', 'ethical', 'society', 'lambs', 'conduit', 'passage', 'conway', 'hall', 'london', 'wc', 'rh', 'red', 'lion', 'square_london', 'wc', 'rl', 'fax', 'the', 'national', 'secular', 'society', 'publish', 'the', 'freethinker', 'monthly', 'magazine', 'founded', 'in', 'germany', 'ibka', 'internationaler', 'bund', 'der', 'und', 'atheisten', 'postfach', 'berlin_germany', 'ibka', 'publish', 'journal', 'miz', 'materialien', 'und', 'informationen', 'zur', 'zeit', 'politisches', 'journal', 'der', 'und', 'atheisten', 'hrsg', 'ibka', 'miz', 'vertrieb', 'postfach', 'berlin_germany', 'for', 'atheist', 'books', 'write', 'to', 'ibdk', 'internationaler', 'ucherdienst', 'der', 'postfach', 'hannover', 'germany', 'telephone', 'books', 'fiction', 'thomas', 'disch', 'the', 'santa_claus', 'compromise', 'short', 'story', 'the', 'ultimate', 'proof', 'that', 'santa', 'exists', 'all', 'characters', 'and', 'events', 'are', 'fictitious', 'any', 'similarity', 'to', 'living', 'or', 'dead', 'gods', 'uh', 'well', 'walter', 'miller', 'jr', 'canticle', 'for', 'leibowitz', 'one', 'gem', 'in', 'this', 'post', 'atomic', 'doomsday', 'novel', 'is', 'the', 'monks', 'who', 'spent', 'their', 'lives', 'copying', 'blueprints', 'from', 'saint', 'leibowitz', 'filling', 'the', 'sheets', 'of', 'paper', 'with', 'ink', 'and', 'leaving', 'white', 'lines', 'and', 'letters', 'edgar', 'pangborn', 'davy', 'post', 'atomic', 'doomsday', 'novel', 'set', 'in', 'clerical', 'states', 'the', 'church', 'for', 'example', 'forbids', 'that', 'anyone', 'produce', 'describe', 'or', 'use', 'any', 'substance', 'containing', 'atoms', 'philip', 'dick', 'philip', 'dick', 'dick', 'wrote', 'many', 'philosophical', 'and', 'thought_provoking', 'short', 'stories', 'and', 'novels', 'his', 'stories', 'are', 'bizarre', 'at', 'times', 'but', 'very', 'approachable', 'he', 'wrote', 'mainly', 'sf', 'but', 'he', 'wrote', 'about', 'people', 'truth', 'and', 'religion', 'rather', 'than', 'technology', 'although', 'he', 'often', 'believed', 'that', 'he', 'had', 'met', 'some', 'sort', 'of', 'god', 'he', 'remained', 'sceptical', 'amongst', 'his', 'novels', 'the', 'following', 'are', 'of', 'some', 'relevance', 'galactic', 'pot', 'healer', 'fallible', 'alien', 'deity', 'summons', 'group', 'of', 'earth', 'craftsmen', 'and', 'women', 'to', 'remote', 'planet', 'to', 'raise', 'giant', 'cathedral', 'from', 'beneath', 'the', 'oceans', 'when', 'the', 'deity', 'begins', 'to', 'demand', 'faith', 'from', 'the', 'earthers', 'pot', 'healer', 'joe', 'fernwright', 'is', 'unable', 'to', 'comply', 'polished', 'ironic', 'and', 'amusing', 'novel', 'maze', 'of', 'death', 'noteworthy', 'for', 'its', 'description', 'of', 'technology', 'based', 'religion', 'valis', 'the', 'schizophrenic', 'hero', 'searches', 'for', 'the', 'hidden', 'mysteries', 'of', 'gnostic', 'christianity', 'after', 'reality', 'is', 'fired', 'into', 'his', 'brain', 'by', 'pink', 'laser_beam', 'of', 'unknown', 'but', 'possibly', 'divine', 'origin', 'he', 'is', 'accompanied', 'by', 'his', 'dogmatic', 'and', 'dismissively', 'atheist', 'friend', 'and', 'assorted', 'other', 'odd', 'characters', 'the', 'divine', 'invasion', 'god', 'invades', 'earth', 'by', 'making', 'young', 'woman', 'pregnant', 'as', 'she', 'returns', 'from', 'another', 'star', 'system', 'unfortunately', 'she', 'is', 'terminally', 'ill', 'and', 'must', 'be', 'assisted', 'by', 'dead', 'man', 'whose', 'brain', 'is', 'wired', 'to', 'hour', 'easy', 'listening', 'music', 'margaret', 'atwood', 'the', 'handmaids', 'tale', 'story', 'based', 'on', 'the', 'premise', 'that', 'the', 'us', 'congress', 'is', 'mysteriously', 'assassinated', 'and', 'fundamentalists', 'quickly', 'take', 'charge', 'of', 'the', 'nation', 'to', 'set', 'it', 'right', 'again', 'the', 'book', 'is', 'the', 'diary', 'of', 'womans', 'life', 'as', 'she', 'tries', 'to', 'live', 'under', 'the', 'new', 'christian', 'theocracy', 'womens', 'right', 'to', 'own', 'property', 'is', 'revoked', 'and', 'their', 'bank_accounts', 'are', 'closed', 'sinful', 'luxuries', 'are', 'outlawed', 'and', 'the', 'radio', 'is', 'only', 'used', 'for', 'readings', 'from', 'the', 'bible', 'crimes', 'are', 'punished', 'retroactively', 'doctors', 'who', 'performed', 'legal', 'abortions', 'in', 'the', 'old', 'world', 'are', 'hunted', 'down', 'and', 'hanged', 'atwoods', 'writing', 'style', 'is', 'difficult', 'to', 'get', 'used', 'to', 'at', 'first', 'but', 'the', 'tale', 'grows', 'more', 'and', 'more', 'chilling', 'as', 'it', 'goes', 'on', 'various', 'authors', 'the', 'bible', 'this', 'somewhat', 'dull', 'and', 'rambling', 'work', 'has', 'often', 'been', 'criticized', 'however', 'it', 'is', 'probably', 'worth', 'reading', 'if', 'only', 'so', 'that', 'youll', 'know', 'what', 'all', 'the', 'fuss', 'is', 'about', 'it', 'exists', 'in', 'many', 'different', 'versions', 'so', 'make', 'sure', 'you', 'get', 'the', 'one', 'true', 'version', 'books', 'non', 'fiction', 'peter', 'de', 'rosa', 'vicars', 'of', 'christ', 'bantam', 'press', 'although', 'de', 'rosa', 'seems', 'to', 'be', 'christian', 'or', 'even', 'catholic', 'this', 'is', 'very', 'enlighting', 'history', 'of', 'papal', 'immoralities', 'adulteries', 'fallacies', 'etc', 'german', 'translation', 'gottes', 'erste', 'diener', 'die', 'dunkle', 'seite', 'des', 'papsttums', 'droemer', 'knaur', 'michael', 'martin', 'atheism', 'philosophical', 'justification', 'temple', 'university', 'press', 'philadelphia', 'usa', 'detailed', 'and', 'scholarly', 'justification', 'of', 'atheism', 'contains', 'an', 'outstanding', 'appendix', 'defining', 'terminology', 'and', 'usage', 'in', 'this', 'necessarily', 'tendentious', 'area', 'argues', 'both', 'for', 'negative', 'atheism', 'the', 'non', 'belief', 'in', 'the', 'existence', 'of', 'god', 'and', 'also', 'for', 'positive', 'atheism', 'the', 'belief', 'in', 'the', 'non', 'existence', 'of', 'god', 'includes', 'great', 'refutations', 'of', 'the', 'most', 'challenging', 'arguments', 'for', 'god', 'particular', 'attention', 'is', 'paid', 'to', 'refuting', 'contempory', 'theists', 'such', 'as', 'platinga', 'and', 'swinburne', 'pages_isbn', 'hardcover', 'paperback', 'also', 'available', 'the', 'case', 'against', 'christianity', 'temple', 'university', 'press', 'comprehensive', 'critique', 'of', 'christianity', 'in', 'which', 'he', 'considers', 'the', 'best', 'contemporary', 'defences', 'of', 'christianity', 'and', 'ultimately', 'demonstrates', 'that', 'they', 'are', 'unsupportable', 'and', 'or', 'incoherent', 'pages_isbn', 'james', 'turner', 'without', 'god', 'without', 'creed', 'the', 'johns_hopkins_university', 'press', 'baltimore_md', 'usa', 'subtitled', 'the', 'origins', 'of', 'unbelief', 'in', 'america', 'examines', 'the', 'way', 'in', 'which', 'unbelief', 'whether', 'agnostic', 'or', 'atheistic', 'became', 'mainstream', 'alternative', 'world', 'view', 'focusses', 'on', 'the', 'period', 'and', 'while', 'considering', 'france', 'and', 'britain', 'the', 'emphasis', 'is', 'on', 'american', 'and', 'particularly', 'new', 'england', 'developments', 'neither', 'religious', 'history', 'of', 'secularization', 'or', 'atheism', 'without', 'god', 'without', 'creed', 'is', 'rather', 'the', 'intellectual', 'history', 'of', 'the', 'fate', 'of', 'single', 'idea', 'the', 'belief', 'that', 'god', 'exists', 'pages_isbn', 'hardcover', 'paper', 'george', 'seldes', 'editor', 'the', 'great', 'thoughts', 'ballantine', 'books', 'new_york', 'usa', 'dictionary', 'of', 'quotations', 'of', 'different', 'kind', 'concentrating', 'on', 'statements', 'and', 'writings', 'which', 'explicitly', 'or', 'implicitly', 'present', 'the', 'persons', 'philosophy', 'and', 'world', 'view', 'includes', 'obscure', 'and', 'often', 'suppressed', 'opinions', 'from', 'many', 'people', 'for', 'some', 'popular', 'observations', 'traces', 'the', 'way', 'in', 'which', 'various', 'people', 'expressed', 'and', 'twisted', 'the', 'idea', 'over', 'the', 'centuries', 'quite', 'number', 'of', 'the', 'quotations', 'are', 'derived', 'from', 'cardiffs', 'what', 'great', 'men', 'think', 'of', 'religion', 'and', 'noyes', 'views', 'of', 'religion', 'pages_isbn', 'paper', 'richard', 'swinburne', 'the', 'existence', 'of', 'god', 'revised_edition', 'clarendon', 'paperbacks', 'oxford', 'this', 'book', 'is', 'the', 'second', 'volume', 'in', 'trilogy', 'that', 'began', 'with', 'the', 'coherence', 'of', 'theism', 'and', 'was', 'concluded', 'with', 'faith', 'and', 'reason', 'in', 'this', 'work', 'swinburne', 'attempts', 'to', 'construct', 'series', 'of', 'inductive', 'arguments', 'for', 'the', 'existence', 'of', 'god', 'his', 'arguments', 'which', 'are', 'somewhat', 'tendentious', 'and', 'rely_upon', 'the', 'imputation', 'of', 'late_th_century', 'western', 'christian', 'values', 'and', 'aesthetics', 'to', 'god', 'which', 'is', 'supposedly', 'as', 'simple', 'as', 'can', 'be', 'conceived', 'were', 'decisively', 'rejected', 'in', 'mackies', 'the', 'miracle', 'of', 'theism', 'in', 'the', 'revised_edition', 'of', 'the', 'existence', 'of', 'god', 'swinburne', 'includes', 'an', 'appendix', 'in', 'which', 'he', 'makes', 'somewhat', 'incoherent', 'attempt', 'to', 'rebut', 'mackie', 'mackie', 'the', 'miracle', 'of', 'theism', 'oxford', 'this', 'posthumous', 'volume', 'contains', 'comprehensive', 'review', 'of', 'the', 'principal', 'arguments', 'for', 'and', 'against', 'the', 'existence', 'of', 'god', 'it', 'ranges', 'from', 'the', 'classical', 'philosophical', 'positions', 'of', 'descartes', 'anselm', 'berkeley', 'hume', 'et_al', 'through', 'the', 'moral', 'arguments', 'of', 'newman', 'kant', 'and', 'sidgwick', 'to', 'the', 'recent', 'restatements', 'of', 'the', 'classical', 'theses', 'by', 'plantinga', 'and', 'swinburne', 'it', 'also', 'addresses', 'those', 'positions', 'which', 'push', 'the', 'concept', 'of', 'god', 'beyond', 'the', 'realm', 'of', 'the', 'rational', 'such', 'as', 'those', 'of', 'kierkegaard', 'kung', 'and', 'philips', 'as', 'well', 'as', 'replacements', 'for', 'god', 'such', 'as', 'lelies', 'axiarchism', 'the', 'book', 'is', 'delight', 'to', 'read', 'less', 'formalistic', 'and', 'better', 'written', 'than', 'martins', 'works', 'and', 'refreshingly', 'direct', 'when', 'compared', 'with', 'the', 'hand', 'waving', 'of', 'swinburne', 'james', 'haught', 'holy', 'horrors', 'an', 'illustrated', 'history', 'of', 'religious', 'murder', 'and', 'madness', 'prometheus_books', 'looks', 'at', 'religious_persecution', 'from', 'ancient', 'times', 'to', 'the', 'present', 'day', 'and', 'not', 'only', 'by', 'christians', 'library', 'of', 'congress', 'catalog', 'card', 'number', 'norm', 'allen', 'jr', 'african_american', 'humanism', 'an', 'anthology', 'see', 'the', 'listing', 'for', 'african_americans', 'for', 'humanism', 'above', 'gordon', 'stein', 'an', 'anthology', 'of', 'atheism', 'and', 'rationalism', 'prometheus_books', 'an', 'anthology', 'covering', 'wide_range', 'of', 'subjects', 'including', 'the', 'devil', 'evil', 'and', 'morality', 'and', 'the', 'history', 'of', 'freethought', 'comprehensive', 'bibliography', 'edmund', 'cohen', 'the', 'mind', 'of', 'the', 'bible', 'believer', 'prometheus_books', 'study', 'of', 'why', 'people', 'become', 'christian', 'fundamentalists', 'and', 'what', 'effect', 'it', 'has', 'on', 'them', 'net', 'resources', 'theres', 'small', 'mail', 'based', 'archive_server', 'at', 'mantis_co_uk', 'which', 'carries', 'archives', 'of', 'old', 'alt_atheism_moderated', 'articles', 'and', 'assorted', 'other', 'files', 'for', 'more', 'information', 'send', 'mail', 'to', 'archive_server', 'mantis_co_uk', 'saying', 'help', 'send', 'atheism', 'index', 'and', 'it', 'will', 'mail', 'back', 'reply', 'mathew']\n"
     ]
    }
   ],
   "source": [
    "# Build the bigram and trigram models\n",
    "bigram = gensim.models.Phrases(data_words, min_count=5, threshold=100) # higher threshold fewer phrases.\n",
    "trigram = gensim.models.Phrases(bigram[data_words], threshold=100)\n",
    "# Faster way to get a sentence clubbed as a trigram/bigram\n",
    "bigram_mod = gensim.models.phrases.Phraser(bigram)\n",
    "trigram_mod = gensim.models.phrases.Phraser(trigram)\n",
    "# See trigram example\n",
    "print(trigram_mod[bigram_mod[data_words[0]]])"
   ]
  },
  {
   "cell_type": "code",
   "execution_count": null,
   "id": "9a49eeeb",
   "metadata": {},
   "outputs": [],
   "source": [
    " ##Define function for stopwords, bigrams, trigrams and lemmatization\n",
    "def remove_stopwords(texts):\n",
    "    return [[word for word in simple_preprocess(str(doc)) if word not in stop_words] for doc in texts]\n",
    "\n",
    "def make_bigrams(texts):\n",
    "    return [bigram_mod[doc] for doc in texts]\n",
    "\n",
    "def make_trigrams(texts):\n",
    "    return [trigram_mod[bigram_mod[doc]] for doc in texts]\n",
    "\n",
    "def lemmatization(texts, allowed_postags=['NOUN', 'ADJ', 'VERB', 'ADV']):\n",
    "    \"\"\"https://spacy.io/api/annotation\"\"\"\n",
    "    texts_out = []\n",
    "    for sent in texts:\n",
    "        doc = nlp(\" \".join(sent)) \n",
    "        texts_out.append([token.lemma_ for token in doc if token.pos_ in allowed_postags])\n",
    "    return texts_out"
   ]
  },
  {
   "cell_type": "code",
   "execution_count": null,
   "id": "8232b0ea",
   "metadata": {},
   "outputs": [
    {
     "data": {
      "text/plain": [
       "['mathew',\n",
       " 'mathew',\n",
       " 'mantis',\n",
       " 'co',\n",
       " 'uk',\n",
       " 'alt',\n",
       " 'atheism',\n",
       " 'faq',\n",
       " 'atheist',\n",
       " 'resources']"
      ]
     },
     "execution_count": 11,
     "metadata": {},
     "output_type": "execute_result"
    }
   ],
   "source": [
    "# Remove Stop Words\n",
    "data_words_nostops = remove_stopwords(data_words)\n",
    "data_words_nostops[0][:10]  "
   ]
  },
  {
   "cell_type": "code",
   "execution_count": null,
   "id": "200edf7b",
   "metadata": {},
   "outputs": [
    {
     "data": {
      "text/plain": [
       "['mathew_mathew',\n",
       " 'mantis_co',\n",
       " 'uk',\n",
       " 'alt_atheism',\n",
       " 'faq',\n",
       " 'atheist',\n",
       " 'resources',\n",
       " 'archive_name',\n",
       " 'atheism',\n",
       " 'resources']"
      ]
     },
     "execution_count": 12,
     "metadata": {},
     "output_type": "execute_result"
    }
   ],
   "source": [
    "# Form Bigrams\n",
    "data_words_bigrams = make_bigrams(data_words_nostops)\n",
    "data_words_bigrams[0][:10]\n",
    "\n"
   ]
  },
  {
   "cell_type": "code",
   "execution_count": null,
   "id": "a0cea7f4",
   "metadata": {},
   "outputs": [
    {
     "name": "stdout",
     "output_type": "stream",
     "text": [
      "[['mantis_co', 'alt_atheism', 'faq', 'atheist', 'resource', 'archive_name', 'atheism', 'resource', 'alt_atheism', 'archive_name', 'resource', 'last_modifie', 'version', 'atheist', 'resource', 'address', 'organization', 'religion', 'foundation', 'assort', 'atheist', 'available', 'freedom', 'religion', 'foundation', 'write', 'ffrf', 'telephone', 'evolution', 'design', 'evolution', 'design', 'sell', 'darwin_fish', 'fish', 'symbol', 'one', 'stick', 'car', 'foot', 'word', 'write', 'inside', 'deluxe', 'mould', 'plastic', 'fish', 'postpaid', 'write', 'evolution', 'design', 'canyon', 'north', 'hollywood', 'people', 'san_francisco', 'get', 'lynn', 'gold', 'try', 'mail', 'figmo', 'com', 'net', 'people', 'go', 'directly', 'price', 'fish', 'publish', 'various', 'atheist', 'book', 'critique', 'list', 'book', 'handbook', 'isbn', 'contradiction', 'absurditie', 'atrocity', 'immorality', 'contain', 'contradict', 'base', 'write', 'cameron', 'road', 'austin_tx', 'telephone', 'fax', 'prometheus_book', 'sell', 'book', 'include', 'haught', 'holy', 'horror', 'see', 'write', 'telephone', 'alternate', 'address', 'newer', 'old', 'prometheus_book', 'glenn', 'drive', 'buffalo', 'humanism', 'organization', 'promote', 'black', 'secular_humanism', 'uncover', 'history', 'black', 'freethought', 'publish', 'quarterly', 'write', 'allen', 'road', 'ethical', 'society', 'lamb', 'conduit', 'national', 'secular', 'society', 'magazine', 'found', 'atheisten', 'politische', 'atheist', 'book', 'write', 'ibdk', 'internationaler', 'telephone', 'book', 'fiction', 'compromise', 'short', 'story', 'ultimate', 'proof', 'santa', 'exist', 'character', 'event', 'fictitious', 'similarity', 'live', 'dead', 'god', 'well', 'gem', 'post', 'atomic', 'doomsday', 'novel', 'monk', 'spend', 'life', 'copy', 'blueprint', 'saint', 'filling', 'sheet', 'paper', 'ink', 'leave', 'white', 'line', 'letter', 'post', 'atomic', 'doomsday', 'novel', 'set', 'clerical', 'example', 'forbid', 'produce', 'describe', 'substance', 'contain', 'atom', 'write', 'many', 'philosophical', 'thought_provoking', 'short', 'story', 'novel', 'storie', 'bizarre', 'time', 'approachable', 'write', 'mainly', 'write', 'people', 'truth', 'religion', 'rather', 'technology', 'often', 'believe', 'meet', 'sort', 'remain', 'sceptical', 'novel', 'follow', 'relevance', 'galactic', 'pot', 'healer', 'fallible', 'alien', 'deity', 'summon', 'group', 'earth', 'craftsman', 'woman', 'remote', 'planet', 'raise', 'giant', 'cathedral', 'ocean', 'deity', 'begin', 'demand', 'faith', 'earther', 'pot', 'healer', 'fernwright', 'unable', 'comply', 'polished', 'ironic', 'amusing', 'novel', 'maze', 'death', 'noteworthy', 'description', 'technology', 'base', 'religion', 'vali', 'schizophrenic', 'hero', 'search', 'hide', 'mystery', 'gnostic', 'christianity', 'reality', 'fire', 'brain', 'pink', 'laser', 'beam', 'unknown', 'possibly', 'divine', 'origin', 'accompany', 'dogmatic', 'dismissively', 'atheist', 'friend', 'assort', 'odd', 'character', 'divine', 'invasion', 'invade', 'earth', 'make', 'young', 'woman', 'pregnant', 'return', 'star', 'system', 'unfortunately', 'terminally', 'ill', 'assist', 'dead', 'man', 'brain', 'wire', 'hour', 'easy', 'listening', 'music', 'tale', 'story', 'base', 'premise', 'mysteriously', 'assassinate', 'fundamentalist', 'quickly', 'take', 'charge', 'nation', 'set', 'right', 'book', 'diary', 'life', 'try', 'live', 'new', 'christian', 'theocracy', 'women', 'right', 'property', 'revoke', 'bank', 'account', 'close', 'sinful', 'luxury', 'outlaw', 'radio', 'use', 'reading', 'crime', 'punish', 'retroactively', 'doctor', 'perform', 'legal', 'abortion', 'old', 'world', 'hunt', 'hang', 'atwood', 'write', 'style', 'difficult', 'get', 'use', 'first', 'tale', 'grow', 'chilling', 'go', 'various', 'author', 'bible', 'somewhat', 'dull', 'ramble', 'work', 'often', 'criticize', 'however', 'probably', 'worth', 'read', 'know', 'fuss', 'exist', 'many', 'different', 'version', 'make', 'sure', 'get', 'true', 'version', 'book', 'fiction', 'vicar', 'press', 'seem', 'even', 'catholic', 'enlighte', 'history', 'papal', 'immorality', 'adulterie', 'fallacy', 'german', 'translation', 'gotte', 'erste', 'diener', 'die', 'dunkle', 'philosophical', 'justification', 'detail', 'scholarly', 'justification', 'atheism', 'contain', 'outstanding', 'appendix', 'define', 'terminology', 'usage', 'necessarily', 'tendentious', 'area', 'argue', 'negative', 'atheism', 'belief', 'existence', 'also', 'positive', 'atheism', 'belief', 'existence', 'include', 'great', 'refutation', 'challenge', 'argument', 'particular', 'attention', 'pay', 'refute', 'contempory', 'theist', 'swinburne', 'hardcover', 'paperback', 'also', 'available', 'case', 'consider', 'good', 'contemporary', 'defence', 'ultimately', 'demonstrate', 'unsupportable', 'incoherent', 'subtitle', 'examine', 'unbelief', 'agnostic', 'atheistic', 'become', 'mainstream', 'alternative', 'world', 'view', 'focusse', 'period', 'consider', 'emphasis', 'particularly', 'new', 'england', 'development', 'religious', 'history', 'secularization', 'atheism', 'creed', 'rather', 'intellectual', 'history', 'fate', 'single', 'idea', 'belief', 'exist', 'editor', 'great', 'thought', 'quotation', 'different', 'kind', 'concentrate', 'statement', 'writing', 'explicitly', 'implicitly', 'present', 'person', 'philosophy', 'world', 'view', 'include', 'obscure', 'often', 'suppress', 'opinion', 'many', 'people', 'popular', 'observation', 'trace', 'way', 'various', 'people', 'express', 'twisted', 'idea', 'century', 'quite', 'number', 'quotation', 'derive', 'cardiff', 'great', 'man', 'think', 'religion', 'noyes', 'view', 'religion', 'swinburne', 'clarendon', 'paperback', 'second', 'volume', 'trilogy', 'begin', 'coherence', 'theism', 'conclude', 'faith', 'reason', 'work', 'swinburne', 'attempt', 'construct', 'series', 'inductive', 'argument', 'existence', 'argument', 'somewhat', 'tendentious', 'imputation', 'late', 'th_century', 'western', 'christian', 'value', 'aesthetic', 'supposedly', 'simple', 'conceive', 'decisively', 'reject', 'mackie', 'miracle', 'theism', 'existence', 'swinburne', 'include', 'appendix', 'make', 'somewhat', 'incoherent', 'attempt', 'rebut', 'theism', 'posthumous', 'volume', 'contain', 'comprehensive', 'review', 'principal', 'argument', 'existence', 'range', 'classical', 'philosophical', 'position', 'descarte', 'hume', 'moral', 'argument', 'newman', 'sidgwick', 'recent', 'restatement', 'classical', 'thesis', 'plantinga', 'swinburne', 'also', 'address', 'position', 'push', 'concept', 'rational', 'well', 'replacement', 'lelie', 'book', 'read', 'less', 'formalistic', 'well', 'write', 'martin', 'work', 'refreshingly', 'direct', 'compare', 'hand', 'wave', 'horror', 'illustrate', 'history', 'religious', 'murder', 'madness', 'prometheus_book', 'look', 'ancient', 'time', 'present', 'day', 'library', 'catalog', 'card', 'number', 'norm', 'allen', 'african_american', 'humanism', 'anthology', 'see', 'list', 'humanism', 'anthology', 'atheism', 'rationalism', 'prometheus_book', 'anthology', 'cover', 'wide_range', 'subject', 'include', 'devil', 'evil', 'morality', 'history', 'freethought', 'comprehensive', 'bibliography', 'mind', 'believer', 'study', 'people', 'become', 'christian', 'fundamentalist', 'effect', 'net', 'resource', 's', 'small', 'mail', 'base', 'archive_server', 'mantis_co', 'carry', 'archive', 'old', 'alt_atheism', 'moderated', 'article', 'assort', 'file', 'information', 'send', 'mail', 'archive_server', 'mantis_co', 'say', 'help', 'send', 'atheism', 'index', 'mail']]\n"
     ]
    }
   ],
   "source": [
    "\n",
    "nlp = spacy.load('en_core_web_sm', disable=['parser', 'ner'])\n",
    "\n",
    "# Do lemmatization keeping only noun, adj, vb, adv\n",
    "data_lemmatized = lemmatization(data_words_bigrams, allowed_postags=['NOUN', 'ADJ', 'VERB', 'ADV'])\n",
    "\n",
    "print(data_lemmatized[:1])"
   ]
  },
  {
   "cell_type": "code",
   "execution_count": null,
   "id": "9ae042b2",
   "metadata": {},
   "outputs": [
    {
     "name": "stdout",
     "output_type": "stream",
     "text": [
      "[[(0, 1), (1, 1), (2, 1), (3, 1), (4, 3), (5, 1), (6, 1), (7, 1), (8, 1), (9, 1), (10, 2), (11, 3), (12, 3), (13, 1), (14, 1), (15, 1), (16, 1), (17, 3), (18, 2), (19, 1), (20, 1), (21, 2), (22, 2), (23, 1), (24, 1), (25, 5), (26, 1), (27, 1), (28, 1), (29, 3), (30, 7), (31, 6), (32, 1), (33, 1), (34, 1), (35, 2), (36, 1), (37, 2), (38, 1), (39, 1), (40, 1), (41, 1), (42, 2), (43, 1), (44, 4), (45, 1), (46, 2), (47, 2), (48, 3), (49, 1), (50, 1), (51, 1), (52, 1), (53, 1), (54, 2), (55, 1), (56, 8), (57, 2), (58, 1), (59, 1), (60, 1), (61, 1), (62, 1), (63, 1), (64, 1), (65, 1), (66, 1), (67, 1), (68, 1), (69, 1), (70, 1), (71, 2), (72, 1), (73, 1), (74, 3), (75, 1), (76, 1), (77, 2), (78, 1), (79, 1), (80, 1), (81, 1), (82, 1), (83, 1), (84, 2), (85, 1), (86, 1), (87, 1), (88, 1), (89, 1), (90, 1), (91, 2), (92, 1), (93, 4), (94, 1), (95, 1), (96, 1), (97, 1), (98, 1), (99, 1), (100, 1), (101, 1), (102, 1), (103, 1), (104, 1), (105, 1), (106, 1), (107, 2), (108, 1), (109, 1), (110, 1), (111, 1), (112, 2), (113, 1), (114, 1), (115, 1), (116, 1), (117, 1), (118, 1), (119, 1), (120, 3), (121, 1), (122, 1), (123, 1), (124, 1), (125, 1), (126, 1), (127, 2), (128, 1), (129, 1), (130, 1), (131, 1), (132, 2), (133, 1), (134, 1), (135, 2), (136, 1), (137, 1), (138, 1), (139, 2), (140, 1), (141, 1), (142, 1), (143, 1), (144, 1), (145, 1), (146, 1), (147, 1), (148, 1), (149, 1), (150, 1), (151, 1), (152, 3), (153, 1), (154, 1), (155, 3), (156, 5), (157, 1), (158, 1), (159, 2), (160, 1), (161, 1), (162, 1), (163, 1), (164, 1), (165, 1), (166, 1), (167, 2), (168, 1), (169, 1), (170, 1), (171, 1), (172, 1), (173, 1), (174, 3), (175, 1), (176, 1), (177, 1), (178, 1), (179, 1), (180, 1), (181, 2), (182, 1), (183, 2), (184, 1), (185, 2), (186, 1), (187, 1), (188, 1), (189, 1), (190, 3), (191, 1), (192, 1), (193, 1), (194, 2), (195, 1), (196, 1), (197, 1), (198, 1), (199, 3), (200, 1), (201, 1), (202, 1), (203, 1), (204, 1), (205, 1), (206, 1), (207, 2), (208, 1), (209, 1), (210, 1), (211, 6), (212, 1), (213, 1), (214, 2), (215, 1), (216, 1), (217, 3), (218, 1), (219, 1), (220, 1), (221, 2), (222, 1), (223, 1), (224, 2), (225, 1), (226, 1), (227, 5), (228, 2), (229, 1), (230, 1), (231, 1), (232, 1), (233, 1), (234, 1), (235, 1), (236, 1), (237, 1), (238, 1), (239, 1), (240, 2), (241, 1), (242, 1), (243, 1), (244, 1), (245, 1), (246, 1), (247, 1), (248, 1), (249, 1), (250, 1), (251, 1), (252, 1), (253, 2), (254, 1), (255, 2), (256, 1), (257, 2), (258, 1), (259, 1), (260, 1), (261, 1), (262, 1), (263, 1), (264, 4), (265, 1), (266, 1), (267, 3), (268, 2), (269, 3), (270, 3), (271, 1), (272, 1), (273, 1), (274, 1), (275, 1), (276, 1), (277, 1), (278, 1), (279, 1), (280, 1), (281, 1), (282, 1), (283, 1), (284, 1), (285, 1), (286, 1), (287, 1), (288, 1), (289, 2), (290, 2), (291, 1), (292, 1), (293, 1), (294, 1), (295, 1), (296, 5), (297, 1), (298, 2), (299, 1), (300, 1), (301, 1), (302, 1), (303, 3), (304, 3), (305, 1), (306, 1), (307, 2), (308, 1), (309, 1), (310, 1), (311, 1), (312, 1), (313, 2), (314, 1), (315, 1), (316, 1), (317, 6), (318, 1), (319, 1), (320, 1), (321, 3), (322, 1), (323, 1), (324, 1), (325, 1), (326, 1), (327, 1), (328, 1), (329, 1), (330, 2), (331, 1), (332, 1), (333, 2), (334, 1), (335, 1), (336, 2), (337, 1), (338, 1), (339, 2), (340, 1), (341, 1), (342, 1), (343, 1), (344, 1), (345, 4), (346, 1), (347, 1), (348, 1), (349, 2), (350, 1), (351, 1), (352, 1), (353, 1), (354, 1), (355, 2), (356, 1), (357, 1), (358, 1), (359, 1), (360, 2), (361, 1), (362, 1), (363, 2), (364, 1), (365, 1), (366, 1), (367, 1), (368, 1), (369, 1), (370, 1), (371, 1), (372, 1), (373, 1), (374, 6), (375, 2), (376, 1), (377, 1), (378, 1), (379, 5), (380, 1), (381, 1), (382, 1), (383, 1), (384, 1), (385, 2), (386, 2), (387, 1), (388, 1), (389, 1), (390, 1), (391, 1), (392, 1), (393, 1), (394, 1), (395, 1), (396, 1), (397, 1), (398, 1), (399, 1), (400, 2), (401, 1), (402, 2), (403, 2), (404, 1), (405, 2), (406, 1), (407, 2), (408, 1), (409, 1), (410, 1), (411, 1), (412, 1), (413, 1), (414, 2), (415, 3), (416, 1), (417, 1), (418, 1), (419, 1), (420, 1), (421, 1), (422, 3), (423, 1), (424, 1), (425, 1), (426, 1), (427, 1), (428, 1), (429, 1), (430, 1), (431, 1), (432, 5), (433, 1), (434, 1), (435, 1), (436, 2), (437, 2), (438, 4), (439, 2), (440, 1), (441, 1), (442, 1), (443, 3), (444, 1), (445, 1), (446, 1), (447, 1), (448, 1), (449, 1), (450, 2), (451, 1), (452, 1), (453, 1), (454, 1), (455, 1), (456, 2), (457, 1), (458, 1), (459, 1), (460, 1), (461, 1), (462, 1), (463, 1), (464, 1), (465, 1), (466, 1), (467, 2), (468, 1), (469, 1), (470, 3), (471, 3), (472, 1), (473, 3), (474, 2), (475, 1), (476, 1), (477, 3), (478, 1), (479, 1), (480, 1), (481, 1), (482, 2), (483, 1), (484, 1), (485, 3), (486, 3), (487, 1), (488, 12), (489, 1), (490, 1)]]\n"
     ]
    }
   ],
   "source": [
    "# Create Dictionary \n",
    "id2word = corpora.Dictionary(data_lemmatized)  \n",
    "# Create Corpus \n",
    "texts = data_lemmatized  \n",
    "# Term Document Frequency \n",
    "corpus = [id2word.doc2bow(text) for text in texts]  \n",
    "# View \n",
    "print(corpus[:1])"
   ]
  },
  {
   "cell_type": "code",
   "execution_count": null,
   "id": "9a4ec5fc",
   "metadata": {},
   "outputs": [
    {
     "data": {
      "text/plain": [
       "[('abortion', 1),\n",
       " ('absurditie', 1),\n",
       " ('accompany', 1),\n",
       " ('account', 1),\n",
       " ('address', 3),\n",
       " ('adulterie', 1),\n",
       " ('aesthetic', 1),\n",
       " ('african_american', 1),\n",
       " ('agnostic', 1),\n",
       " ('alien', 1)]"
      ]
     },
     "execution_count": 15,
     "metadata": {},
     "output_type": "execute_result"
    }
   ],
   "source": [
    "[[(id2word[id], freq) for id, freq in cp] for cp in corpus[:1]][0][:10]"
   ]
  },
  {
   "cell_type": "code",
   "execution_count": null,
   "id": "ffd75e12",
   "metadata": {},
   "outputs": [],
   "source": [
    "lda_model = gensim.models.ldamodel.LdaModel(corpus=corpus,\n",
    "                                           id2word=id2word,\n",
    "                                           num_topics=20, \n",
    "                                           random_state=100,\n",
    "                                           update_every=1,\n",
    "                                           chunksize=100,\n",
    "                                           passes=10,\n",
    "                                           alpha='auto',\n",
    "                                           per_word_topics=True)"
   ]
  },
  {
   "cell_type": "code",
   "execution_count": null,
   "id": "3fdda589",
   "metadata": {},
   "outputs": [
    {
     "name": "stdout",
     "output_type": "stream",
     "text": [
      "[(0,\n",
      "  '0.353*\"law\" + 0.093*\"break\" + 0.089*\"private\" + 0.072*\"medium\" + '\n",
      "  '0.058*\"company\" + 0.024*\"middle\" + 0.021*\"protection\" + 0.019*\"profit\" + '\n",
      "  '0.017*\"million\" + 0.016*\"massive\"'),\n",
      " (1,\n",
      "  '0.133*\"gun\" + 0.071*\"theory\" + 0.060*\"society\" + 0.043*\"freedom\" + '\n",
      "  '0.038*\"judge\" + 0.038*\"tax\" + 0.034*\"legal\" + 0.032*\"vote\" + 0.029*\"car\" + '\n",
      "  '0.029*\"seek\"'),\n",
      " (2,\n",
      "  '0.021*\"group\" + 0.020*\"system\" + 0.018*\"support\" + 0.017*\"include\" + '\n",
      "  '0.014*\"base\" + 0.014*\"use\" + 0.013*\"provide\" + 0.013*\"public\" + '\n",
      "  '0.013*\"create\" + 0.012*\"member\"'),\n",
      " (3,\n",
      "  '0.179*\"morning\" + 0.036*\"resort\" + 0.024*\"gene\" + 0.000*\"ms_myer\" + '\n",
      "  '0.000*\"president\" + 0.000*\"yesterday\" + 0.000*\"armenian\" + 0.000*\"compound\" '\n",
      "  '+ 0.000*\"dee_dee\" + 0.000*\"brief\"'),\n",
      " (4,\n",
      "  '0.014*\"also\" + 0.014*\"time\" + 0.012*\"man\" + 0.012*\"find\" + 0.011*\"first\" + '\n",
      "  '0.011*\"year\" + 0.011*\"call\" + 0.011*\"work\" + 0.010*\"look\" + '\n",
      "  '0.009*\"question\"'),\n",
      " (5,\n",
      "  '0.066*\"ancient\" + 0.065*\"measure\" + 0.047*\"image\" + 0.047*\"request\" + '\n",
      "  '0.045*\"girl\" + 0.044*\"conduct\" + 0.038*\"typical\" + 0.034*\"apparent\" + '\n",
      "  '0.033*\"stage\" + 0.032*\"generate\"'),\n",
      " (6,\n",
      "  '0.076*\"card\" + 0.076*\"promote\" + 0.055*\"inside\" + 0.039*\"moon\" + '\n",
      "  '0.038*\"temporary\" + 0.035*\"dare\" + 0.032*\"phase\" + 0.017*\"symbol\" + '\n",
      "  '0.016*\"accompany\" + 0.014*\"integrate\"'),\n",
      " (7,\n",
      "  '0.102*\"record\" + 0.095*\"kid\" + 0.070*\"secret\" + 0.067*\"role\" + 0.059*\"atom\" '\n",
      "  '+ 0.041*\"contrary\" + 0.038*\"block\" + 0.025*\"display\" + 0.023*\"crap\" + '\n",
      "  '0.021*\"reasoning\"'),\n",
      " (8,\n",
      "  '0.107*\"age\" + 0.100*\"forward\" + 0.065*\"origin\" + 0.060*\"mark\" + '\n",
      "  '0.059*\"topic\" + 0.056*\"review\" + 0.049*\"discover\" + 0.044*\"gift\" + '\n",
      "  '0.030*\"immediate\" + 0.018*\"branch\"'),\n",
      " (9,\n",
      "  '0.093*\"united_state\" + 0.089*\"star\" + 0.077*\"check\" + 0.052*\"university\" + '\n",
      "  '0.033*\"analysis\" + 0.033*\"train\" + 0.028*\"strongly\" + 0.025*\"saint\" + '\n",
      "  '0.024*\"wave\" + 0.024*\"mystery\"'),\n",
      " (10,\n",
      "  '0.083*\"problem\" + 0.048*\"lead\" + 0.041*\"murder\" + 0.039*\"home\" + '\n",
      "  '0.029*\"teach\" + 0.024*\"drive\" + 0.024*\"fund\" + 0.023*\"prevent\" + '\n",
      "  '0.022*\"escape\" + 0.022*\"deny\"'),\n",
      " (11,\n",
      "  '0.178*\"drug\" + 0.113*\"apple\" + 0.086*\"proof\" + 0.048*\"straight\" + '\n",
      "  '0.046*\"condition\" + 0.038*\"identify\" + 0.034*\"meeting\" + 0.029*\"pressure\" + '\n",
      "  '0.025*\"color\" + 0.022*\"limited\"'),\n",
      " (12,\n",
      "  '0.114*\"century\" + 0.091*\"western\" + 0.082*\"employer\" + 0.064*\"energy\" + '\n",
      "  '0.057*\"umd\" + 0.042*\"link\" + 0.033*\"cs\" + 0.024*\"ordinary\" + '\n",
      "  '0.022*\"reliable\" + 0.014*\"prime\"'),\n",
      " (13,\n",
      "  '0.357*\"child\" + 0.137*\"woman\" + 0.065*\"mother\" + 0.062*\"raise\" + '\n",
      "  '0.044*\"alive\" + 0.040*\"male\" + 0.036*\"night\" + 0.033*\"print\" + '\n",
      "  '0.012*\"female\" + 0.010*\"presume\"'),\n",
      " (14,\n",
      "  '0.137*\"belief\" + 0.088*\"universe\" + 0.080*\"evil\" + 0.073*\"existence\" + '\n",
      "  '0.064*\"principle\" + 0.044*\"disagree\" + 0.042*\"assumption\" + '\n",
      "  '0.033*\"positive\" + 0.030*\"attitude\" + 0.028*\"philosophy\"'),\n",
      " (15,\n",
      "  '0.097*\"land\" + 0.072*\"policy\" + 0.060*\"business\" + 0.057*\"rate\" + '\n",
      "  '0.048*\"hell\" + 0.044*\"hate\" + 0.035*\"research\" + 0.027*\"join\" + '\n",
      "  '0.027*\"enjoy\" + 0.025*\"ignorant\"'),\n",
      " (16,\n",
      "  '0.085*\"modern\" + 0.073*\"hang\" + 0.065*\"warrant\" + 0.055*\"european\" + '\n",
      "  '0.053*\"_\" + 0.047*\"dimension\" + 0.042*\"sufficient\" + 0.041*\"dictionary\" + '\n",
      "  '0.038*\"art\" + 0.028*\"bar\"'),\n",
      " (17,\n",
      "  '0.237*\"moral\" + 0.180*\"objective\" + 0.064*\"animal\" + 0.057*\"goal\" + '\n",
      "  '0.040*\"compromise\" + 0.018*\"programmer\" + 0.017*\"neutral\" + '\n",
      "  '0.010*\"assembly\" + 0.000*\"morality\" + 0.000*\"subjective\"'),\n",
      " (18,\n",
      "  '0.336*\"attack\" + 0.064*\"proper\" + 0.049*\"double\" + 0.047*\"explicitly\" + '\n",
      "  '0.007*\"fat\" + 0.003*\"annoying\" + 0.002*\"tiger\" + 0.000*\"armenian\" + '\n",
      "  '0.000*\"village\" + 0.000*\"israeli\"'),\n",
      " (19,\n",
      "  '0.033*\"say\" + 0.031*\"write\" + 0.028*\"people\" + 0.025*\"com\" + '\n",
      "  '0.020*\"article\" + 0.020*\"think\" + 0.019*\"go\" + 0.019*\"know\" + 0.014*\"make\" '\n",
      "  '+ 0.014*\"see\"')]\n"
     ]
    }
   ],
   "source": [
    "# Print the keyword of topics\n",
    "pprint(lda_model.print_topics())\n",
    "doc_lda = lda_model[corpus]"
   ]
  },
  {
   "cell_type": "markdown",
   "id": "dfc1688d",
   "metadata": {},
   "source": [
    "## Evaluate topic models\n",
    "\n",
    "##### Compute model Perplexity and Coherence score Coherence score and perplexity provide a convinent way to measure how good a given topic model is\n",
    "\n",
    "##### Note:\n",
    "\n",
    "##### Lower the perplexity better the model.\n",
    "##### Higher the topic coherence, the topic is more human interpretable."
   ]
  },
  {
   "cell_type": "code",
   "execution_count": 5,
   "id": "5f3056c3",
   "metadata": {},
   "outputs": [
    {
     "ename": "NameError",
     "evalue": "name 'lda_model' is not defined",
     "output_type": "error",
     "traceback": [
      "\u001b[31m---------------------------------------------------------------------------\u001b[39m",
      "\u001b[31mNameError\u001b[39m                                 Traceback (most recent call last)",
      "\u001b[36mCell\u001b[39m\u001b[36m \u001b[39m\u001b[32mIn[5]\u001b[39m\u001b[32m, line 2\u001b[39m\n\u001b[32m      1\u001b[39m  \u001b[38;5;66;03m#Compute Perplexity\u001b[39;00m\n\u001b[32m----> \u001b[39m\u001b[32m2\u001b[39m \u001b[38;5;28mprint\u001b[39m(\u001b[33m'\u001b[39m\u001b[38;5;130;01m\\n\u001b[39;00m\u001b[33mPerplexity: \u001b[39m\u001b[33m'\u001b[39m, \u001b[43mlda_model\u001b[49m.log_perplexity(corpus))  \n\u001b[32m      3\u001b[39m \u001b[38;5;66;03m# a measure of how good the model is. lower the better.\u001b[39;00m\n\u001b[32m      4\u001b[39m \n\u001b[32m      5\u001b[39m \u001b[38;5;66;03m# Compute Coherence Score\u001b[39;00m\n\u001b[32m      6\u001b[39m coherence_model_lda = CoherenceModel(model=lda_model, texts=data_lemmatized, dictionary=id2word, coherence=\u001b[33m'\u001b[39m\u001b[33mc_v\u001b[39m\u001b[33m'\u001b[39m)\n",
      "\u001b[31mNameError\u001b[39m: name 'lda_model' is not defined"
     ]
    }
   ],
   "source": [
    " #Compute Perplexity\n",
    "print('\\nPerplexity: ', lda_model.log_perplexity(corpus))  \n",
    "# a measure of how good the model is. lower the better.\n",
    "\n",
    "# Compute Coherence Score\n",
    "coherence_model_lda = CoherenceModel(model=lda_model, texts=data_lemmatized, dictionary=id2word, coherence='c_v')\n",
    "coherence_lda = coherence_model_lda.get_coherence()\n",
    "print('\\nCoherence Score: ', coherence_lda)"
   ]
  },
  {
   "cell_type": "code",
   "execution_count": 6,
   "id": "6cda493d",
   "metadata": {},
   "outputs": [
    {
     "ename": "NameError",
     "evalue": "name 'lda_model' is not defined",
     "output_type": "error",
     "traceback": [
      "\u001b[31m---------------------------------------------------------------------------\u001b[39m",
      "\u001b[31mNameError\u001b[39m                                 Traceback (most recent call last)",
      "\u001b[36mCell\u001b[39m\u001b[36m \u001b[39m\u001b[32mIn[6]\u001b[39m\u001b[32m, line 3\u001b[39m\n\u001b[32m      1\u001b[39m \u001b[38;5;66;03m# Visualize the topics\u001b[39;00m\n\u001b[32m      2\u001b[39m pyLDAvis.enable_notebook()\n\u001b[32m----> \u001b[39m\u001b[32m3\u001b[39m vis = pyLDAvis.gensim.prepare(\u001b[43mlda_model\u001b[49m, corpus, id2word)\n\u001b[32m      4\u001b[39m vis\n",
      "\u001b[31mNameError\u001b[39m: name 'lda_model' is not defined"
     ]
    }
   ],
   "source": [
    "# Visualize the topics\n",
    "pyLDAvis.enable_notebook()\n",
    "vis = pyLDAvis.gensim.prepare(lda_model, corpus, id2word)\n",
    "vis"
   ]
  },
  {
   "cell_type": "code",
   "execution_count": null,
   "id": "fbc83d20",
   "metadata": {},
   "outputs": [],
   "source": []
  },
  {
   "cell_type": "code",
   "execution_count": null,
   "id": "70723df3",
   "metadata": {},
   "outputs": [],
   "source": []
  }
 ],
 "metadata": {
  "kernelspec": {
   "display_name": "Python 3",
   "language": "python",
   "name": "python3"
  },
  "language_info": {
   "codemirror_mode": {
    "name": "ipython",
    "version": 3
   },
   "file_extension": ".py",
   "mimetype": "text/x-python",
   "name": "python",
   "nbconvert_exporter": "python",
   "pygments_lexer": "ipython3",
   "version": "3.12.9"
  }
 },
 "nbformat": 4,
 "nbformat_minor": 5
}
